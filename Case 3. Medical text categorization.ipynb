{
 "cells": [
  {
   "cell_type": "markdown",
   "metadata": {},
   "source": [
    "# Case 3. Medical text categorization   \n",
    "Joona Klemetti  \n",
    "10.3.2018   \n",
    "Cognitive Systems for Health Technology Applications    \n",
    "Helsinki Metropolia University of Applied Science"
   ]
  },
  {
   "cell_type": "markdown",
   "metadata": {},
   "source": [
    "#  1. Objectives   \n",
    "The aim of this case is to use recurrent and convolutional neural networks to create a classifier for a collection of medical abstracts extracted from MEDLINE, the online medical information database.\n"
   ]
  },
  {
   "cell_type": "markdown",
   "metadata": {},
   "source": [
    "# 2. Required libraries   \n",
    "At first it is necessary to import all libraries. In this assignment is used os module to downloading and listing data and labels, time library to comput the time, numpy to scientific computing and creating multidimensional arrays, Keras to preproces data, define labels, building and training the model, matplotlib to ploting history and sklearn to calculate metrics."
   ]
  },
  {
   "cell_type": "code",
   "execution_count": 2,
   "metadata": {},
   "outputs": [
    {
     "name": "stderr",
     "output_type": "stream",
     "text": [
      "Using TensorFlow backend.\n"
     ]
    }
   ],
   "source": [
    "import os\n",
    "import time\n",
    "import numpy as np\n",
    "import matplotlib.pyplot as plt\n",
    "\n",
    "from keras.preprocessing.text import Tokenizer\n",
    "from keras.preprocessing.sequence import pad_sequences\n",
    "\n",
    "from keras.utils.np_utils import to_categorical\n",
    "\n",
    "from keras.models import Sequential\n",
    "\n",
    "from keras.layers import Dense, Embedding, LSTM\n",
    "\n",
    "from sklearn.metrics import accuracy_score, precision_score, f1_score, confusion_matrix\n",
    "from sklearn.metrics import classification_report, recall_score"
   ]
  },
  {
   "cell_type": "markdown",
   "metadata": {},
   "source": [
    "# 3. Data description and preprocessing   \n",
    "The data used in this case is the Cardiovascular diseases abstract database from MEDLINE. The data is already splited into training and test sets and abstracts are in sub-folders according to their categories. The data is downloaded from http://disi.unitn.it/moschitti/corpora.htm. Visit there if you want more information of used abstracts. For more infrormation of labels please visit http://disi.unitn.it/moschitti/corpora/First-Level-Categories-of-Cardiovascular-Disease.txt   \n",
    "<br>\n",
    "At first medical abstracts and labels are downloaded. After that abstracts is collected into lsit of strings. Labels is also collected to the labels list. Next the data is tokenized, maxium length of text and number of words is defined. Data is also shaped into right shape and shuffled. Shuffeling is important because otherwise there will be problems when spliting data into training and validation set. Without shuffling validation set consists only abstracts from last two categories. \n"
   ]
  },
  {
   "cell_type": "code",
   "execution_count": 3,
   "metadata": {},
   "outputs": [
    {
     "name": "stdout",
     "output_type": "stream",
     "text": [
      "Time elapsed 22 seconds.\n"
     ]
    }
   ],
   "source": [
    "ohsumed_dir = 'ohsumed-first-20000-docs'\n",
    "train_dir = os.path.join(ohsumed_dir, 'training')\n",
    "\n",
    "labels = []\n",
    "texts = []\n",
    "\n",
    "t1 = time.time()\n",
    "\n",
    "# Generate a list L = ['C01', 'C02, ..., 'C023']\n",
    "L = ['C{:02}'.format(n) for n in range(1, 23 + 1)]\n",
    "for label_type in L:\n",
    "    dir_name = os.path.join(train_dir, label_type)\n",
    "    for fname in os.listdir(dir_name):\n",
    "        f = open(os.path.join(dir_name, fname))\n",
    "        texts.append(f.read())\n",
    "        f.close()\n",
    "        i = L.index(label_type)\n",
    "        labels.append(i)\n",
    "t2 = time.time()\n",
    "print('Time elapsed {:.0f} seconds.'.format((t2-t1)))"
   ]
  },
  {
   "cell_type": "code",
   "execution_count": 4,
   "metadata": {},
   "outputs": [
    {
     "name": "stdout",
     "output_type": "stream",
     "text": [
      "Found 30857 unique tokens\n"
     ]
    }
   ],
   "source": [
    "maxlen = 250\n",
    "max_words = 20000\n",
    "\n",
    "tokenizer = Tokenizer(num_words = max_words)\n",
    "tokenizer.fit_on_texts(texts)\n",
    "sequences = tokenizer.texts_to_sequences(texts)\n",
    "\n",
    "word_index = tokenizer.word_index\n",
    "print('Found %s unique tokens' % len(word_index))"
   ]
  },
  {
   "cell_type": "code",
   "execution_count": 5,
   "metadata": {},
   "outputs": [
    {
     "name": "stdout",
     "output_type": "stream",
     "text": [
      "Shape of data tensor: (10433, 250)\n",
      "Shape of labels tensor: (10433, 23)\n"
     ]
    }
   ],
   "source": [
    "data = pad_sequences(sequences, maxlen = maxlen)\n",
    "\n",
    "labels = np.asarray(labels)\n",
    "one_hot_labels = to_categorical(labels)\n",
    "\n",
    "\n",
    "print('Shape of data tensor:', data.shape)\n",
    "print('Shape of labels tensor:', one_hot_labels.shape)"
   ]
  },
  {
   "cell_type": "code",
   "execution_count": 6,
   "metadata": {
    "collapsed": true
   },
   "outputs": [],
   "source": [
    "indices = np.arange(data.shape[0])\n",
    "np.random.shuffle(indices)\n",
    "data = data[indices]\n",
    "labels = labels[indices]\n",
    "one_hot_labels = one_hot_labels[indices]"
   ]
  },
  {
   "cell_type": "markdown",
   "metadata": {},
   "source": [
    "# 3. Building the model   \n",
    "The recurrent neural network is build by using keras sequential model. The first layer, Embedding layer, is turned positive integers to dense vectors. After Embedding layer there is two LSTM recurrent layers with dropout and recurrent_dropout arguments to avoid overfitting. LSTM is abbreviation for long short-term memory and it is founded in 1997. At least there is dense layer with softmax activation to split data to the 23 categories."
   ]
  },
  {
   "cell_type": "code",
   "execution_count": 7,
   "metadata": {},
   "outputs": [
    {
     "name": "stdout",
     "output_type": "stream",
     "text": [
      "_________________________________________________________________\n",
      "Layer (type)                 Output Shape              Param #   \n",
      "=================================================================\n",
      "embedding_1 (Embedding)      (None, 250, 32)           640000    \n",
      "_________________________________________________________________\n",
      "lstm_1 (LSTM)                (None, 250, 100)          53200     \n",
      "_________________________________________________________________\n",
      "lstm_2 (LSTM)                (None, 100)               80400     \n",
      "_________________________________________________________________\n",
      "dense_1 (Dense)              (None, 23)                2323      \n",
      "=================================================================\n",
      "Total params: 775,923\n",
      "Trainable params: 775,923\n",
      "Non-trainable params: 0\n",
      "_________________________________________________________________\n"
     ]
    }
   ],
   "source": [
    "model = Sequential()\n",
    "model.add(Embedding(max_words, 32, input_length=maxlen))\n",
    "model.add(LSTM(100, return_sequences = True, dropout = 0.4, recurrent_dropout = 0.2))\n",
    "model.add(LSTM(100, dropout = 0.2, recurrent_dropout = 0.4))\n",
    "model.add(Dense(len(L), activation = 'softmax'))\n",
    "\n",
    "model.compile(optimizer = 'rmsprop',\n",
    "             loss = 'categorical_crossentropy',\n",
    "             metrics = ['accuracy'])\n",
    "\n",
    "model.summary()"
   ]
  },
  {
   "cell_type": "markdown",
   "metadata": {},
   "source": [
    "# 5. Training and Validation\n",
    "After model is build is time to train and validate the network. Training is executed with .fit() method. Validation split is defined by validation_split argument. "
   ]
  },
  {
   "cell_type": "code",
   "execution_count": 8,
   "metadata": {},
   "outputs": [
    {
     "name": "stdout",
     "output_type": "stream",
     "text": [
      "Train on 8346 samples, validate on 2087 samples\n",
      "Epoch 1/20\n",
      "8346/8346 [==============================] - 194s 23ms/step - loss: 2.8224 - acc: 0.1691 - val_loss: 2.7976 - val_acc: 0.1624\n",
      "Epoch 2/20\n",
      "8346/8346 [==============================] - 186s 22ms/step - loss: 2.7106 - acc: 0.1913 - val_loss: 2.6602 - val_acc: 0.2142\n",
      "Epoch 3/20\n",
      "8346/8346 [==============================] - 193s 23ms/step - loss: 2.6165 - acc: 0.2153 - val_loss: 2.6487 - val_acc: 0.2113\n",
      "Epoch 4/20\n",
      "8346/8346 [==============================] - 187s 22ms/step - loss: 2.5576 - acc: 0.2360 - val_loss: 2.6529 - val_acc: 0.2209\n",
      "Epoch 5/20\n",
      "8346/8346 [==============================] - 192s 23ms/step - loss: 2.5092 - acc: 0.2574 - val_loss: 2.6790 - val_acc: 0.2520\n",
      "Epoch 6/20\n",
      "8346/8346 [==============================] - 189s 23ms/step - loss: 2.4818 - acc: 0.2644 - val_loss: 2.6024 - val_acc: 0.2401\n",
      "Epoch 7/20\n",
      "8346/8346 [==============================] - 194s 23ms/step - loss: 2.3878 - acc: 0.2872 - val_loss: 2.5972 - val_acc: 0.2444\n",
      "Epoch 8/20\n",
      "8346/8346 [==============================] - 183s 22ms/step - loss: 2.3268 - acc: 0.2970 - val_loss: 2.6065 - val_acc: 0.2420\n",
      "Epoch 9/20\n",
      "8346/8346 [==============================] - 183s 22ms/step - loss: 2.2854 - acc: 0.3132 - val_loss: 2.6033 - val_acc: 0.2487\n",
      "Epoch 10/20\n",
      "8346/8346 [==============================] - 183s 22ms/step - loss: 2.2471 - acc: 0.3160 - val_loss: 2.6121 - val_acc: 0.2463\n",
      "Epoch 11/20\n",
      "8346/8346 [==============================] - 196s 23ms/step - loss: 2.2111 - acc: 0.3245 - val_loss: 2.6331 - val_acc: 0.2472\n",
      "Epoch 12/20\n",
      "8346/8346 [==============================] - 200s 24ms/step - loss: 2.1891 - acc: 0.3308 - val_loss: 2.6434 - val_acc: 0.2540\n",
      "Epoch 13/20\n",
      "8346/8346 [==============================] - 207s 25ms/step - loss: 2.1616 - acc: 0.3353 - val_loss: 2.6625 - val_acc: 0.2568\n",
      "Epoch 14/20\n",
      "8346/8346 [==============================] - 183s 22ms/step - loss: 2.1322 - acc: 0.3464 - val_loss: 2.6689 - val_acc: 0.2468\n",
      "Epoch 15/20\n",
      "8346/8346 [==============================] - 183s 22ms/step - loss: 2.1094 - acc: 0.3478 - val_loss: 2.6731 - val_acc: 0.2549\n",
      "Epoch 16/20\n",
      "8346/8346 [==============================] - 184s 22ms/step - loss: 2.0733 - acc: 0.3641 - val_loss: 2.7383 - val_acc: 0.2405\n",
      "Epoch 17/20\n",
      "8346/8346 [==============================] - 183s 22ms/step - loss: 2.0614 - acc: 0.3603 - val_loss: 2.7417 - val_acc: 0.2329\n",
      "Epoch 18/20\n",
      "8346/8346 [==============================] - 182s 22ms/step - loss: 2.0326 - acc: 0.3731 - val_loss: 2.7400 - val_acc: 0.2329\n",
      "Epoch 19/20\n",
      "8346/8346 [==============================] - 200s 24ms/step - loss: 2.0061 - acc: 0.3843 - val_loss: 2.7695 - val_acc: 0.2367\n",
      "Epoch 20/20\n",
      "8346/8346 [==============================] - 182s 22ms/step - loss: 1.9740 - acc: 0.3874 - val_loss: 2.7523 - val_acc: 0.2386\n",
      "Elapsed time: 3787.94 seconds\n"
     ]
    }
   ],
   "source": [
    "t1 = time.time()\n",
    "history = model.fit(data, one_hot_labels,\n",
    "                   epochs = 20,\n",
    "                   batch_size = 34,\n",
    "                   validation_split = 0.2)\n",
    "t2 = time.time()\n",
    "print('Elapsed time: {:.2f} seconds'.format((t2-t1)))"
   ]
  },
  {
   "cell_type": "markdown",
   "metadata": {},
   "source": [
    "# 6. Evaluation \n",
    "Model is tested with testing set. Evaluate function computes testing sets loss function and accuracity."
   ]
  },
  {
   "cell_type": "code",
   "execution_count": 9,
   "metadata": {},
   "outputs": [
    {
     "name": "stdout",
     "output_type": "stream",
     "text": [
      "12733/12733 [==============================] - 66s 5ms/step\n"
     ]
    },
    {
     "data": {
      "text/plain": [
       "[2.5768937821999787, 0.26930024346655185]"
      ]
     },
     "execution_count": 9,
     "metadata": {},
     "output_type": "execute_result"
    }
   ],
   "source": [
    "# Download and preproces test data\n",
    "\n",
    "test_dir = os.path.join(ohsumed_dir, 'test')\n",
    "\n",
    "test_labels = []\n",
    "test_texts = []\n",
    "\n",
    "for label_type in L:\n",
    "    dir_name = os.path.join(test_dir, label_type)\n",
    "    for fname in os.listdir(dir_name):\n",
    "        f = open(os.path.join(dir_name, fname))\n",
    "        test_texts.append(f.read())\n",
    "        f.close()\n",
    "        i = L.index(label_type)\n",
    "        test_labels.append(i)\n",
    "        \n",
    "test_sequences = tokenizer.texts_to_sequences(test_texts)\n",
    "x_test = pad_sequences(test_sequences, maxlen=maxlen)\n",
    "test_labels = np.asarray(test_labels)\n",
    "y_test = to_categorical(test_labels)\n",
    "\n",
    "#Evaluate model with test data\n",
    "model.evaluate(x_test, y_test)"
   ]
  },
  {
   "cell_type": "markdown",
   "metadata": {},
   "source": [
    "# 7. Results and Discussion\n",
    "There is noticed overfitting in the model and despite to dropout arguments it stil bother the network. Overfitting could be seen from lower testing accuracy and higher loss. It is interesting that testing accuracy and loss are much better than validation results. Like you could see from the graphs overfitting started about after 6th epoch. "
   ]
  },
  {
   "cell_type": "code",
   "execution_count": 10,
   "metadata": {},
   "outputs": [
    {
     "data": {
      "image/png": "[encoded data removed]",
      "text/plain": [
       "<matplotlib.figure.Figure at 0x1e97483c470>"
      ]
     },
     "metadata": {},
     "output_type": "display_data"
    },
    {
     "data": {
      "image/png": "[encoded data removed]",
      "text/plain": [
       "<matplotlib.figure.Figure at 0x1e97363c198>"
      ]
     },
     "metadata": {},
     "output_type": "display_data"
    }
   ],
   "source": [
    "acc = history.history['acc']\n",
    "val_acc = history.history['val_acc']\n",
    "loss = history.history['loss']\n",
    "val_loss = history.history['val_loss']\n",
    "\n",
    "epochs = range(1, len(acc) + 1)\n",
    "\n",
    "plt.figure(figsize=(15, 3))\n",
    "plt.plot(epochs, acc, 'bo', label='Training acc')\n",
    "plt.plot(epochs, val_acc, 'b', label='Validation acc')\n",
    "plt.title('Training and validation accuracy')\n",
    "plt.grid()\n",
    "plt.xlabel('Epoch')\n",
    "plt.legend()\n",
    "\n",
    "\n",
    "plt.figure(figsize=(15, 3))\n",
    "plt.plot(epochs, loss, 'bo', label='Training loss')\n",
    "plt.plot(epochs, val_loss, 'b', label='Validation loss')\n",
    "plt.title('Training and validation loss')\n",
    "plt.grid()\n",
    "plt.xlabel('Epoch')\n",
    "plt.legend()\n",
    "\n",
    "plt.show()"
   ]
  },
  {
   "cell_type": "markdown",
   "metadata": {},
   "source": [
    "# 8. Metrics results   \n",
    "Metrics are calulate by sklearn library. There are classification report, confusion matrix and possibility to check predictions by text."
   ]
  },
  {
   "cell_type": "code",
   "execution_count": 11,
   "metadata": {},
   "outputs": [
    {
     "name": "stdout",
     "output_type": "stream",
     "text": [
      "             precision    recall  f1-score   support\n",
      "\n",
      "          0       0.35      0.33      0.34       423\n",
      "          1       0.00      0.00      0.00       158\n",
      "          2       0.00      0.00      0.00        65\n",
      "          3       0.48      0.73      0.58      1163\n",
      "          4       0.40      0.16      0.23       283\n",
      "          5       0.45      0.30      0.36       588\n",
      "          6       0.00      0.00      0.00       100\n",
      "          7       0.25      0.18      0.21       473\n",
      "          8       0.00      0.00      0.00       125\n",
      "          9       0.42      0.11      0.18       621\n",
      "         10       0.29      0.14      0.19       162\n",
      "         11       0.29      0.21      0.24       491\n",
      "         12       0.35      0.12      0.18       281\n",
      "         13       0.56      0.80      0.66      1249\n",
      "         14       0.20      0.07      0.10       215\n",
      "         15       0.00      0.00      0.00       200\n",
      "         16       0.33      0.29      0.31       295\n",
      "         17       0.51      0.44      0.47       388\n",
      "         18       0.12      0.02      0.03       191\n",
      "         19       0.36      0.60      0.45       525\n",
      "         20       0.45      0.43      0.44       546\n",
      "         21       0.00      0.00      0.00        92\n",
      "         22       0.30      0.47      0.36      1799\n",
      "\n",
      "avg / total       0.36      0.40      0.36     10433\n",
      "\n"
     ]
    },
    {
     "name": "stderr",
     "output_type": "stream",
     "text": [
      "C:\\Users\\Joona\\Anaconda3\\lib\\site-packages\\sklearn\\metrics\\classification.py:1135: UndefinedMetricWarning: Precision and F-score are ill-defined and being set to 0.0 in labels with no predicted samples.\n",
      "  'precision', 'predicted', average, warn_for)\n"
     ]
    }
   ],
   "source": [
    "# Calculate the predictions\n",
    "predictions = model.predict(data)\n",
    "y_pred = np.argmax(predictions, axis = 1)\n",
    "\n",
    "# Classification results per class\n",
    "print(classification_report(labels, y_pred))"
   ]
  },
  {
   "cell_type": "code",
   "execution_count": 12,
   "metadata": {},
   "outputs": [
    {
     "name": "stdout",
     "output_type": "stream",
     "text": [
      "[[ 141    0    0   13    3   11    0   23    0    1    7    5    5   20    2    0    8    5    0   80   12    0   87]\n",
      " [  15    0    0   13    0    0    0    5    0    0    0    1    6    2    0    0    3    0    0   99    0    0   14]\n",
      " [  22    0    0    1    0    1    0    1    0    0    4    2    0    1    0    0    3    0    0   10    1    0   19]\n",
      " [   2    0    0  851    1   48    0    9    0    1    1   42    7   10    5    0    9    1    3   31    2    0  140]\n",
      " [  13    0    0   15   45    3    0    8    0    7    7    3    0    9    0    0    5   14    4    8   58    0   84]\n",
      " [   9    0    0   72    1  178    0    4    0    2    0   11    0   13    1    0    0    3    0   24    9    0  261]\n",
      " [   3    0    0   37    4    0    0    5    0    0    2    4    0    0    1    0    6    5    4    5    3    0   21]\n",
      " [  16    0    0  120    3    1    0   86    0    1    1   24    6   30   11    0   11    0    0   54    1    0  108]\n",
      " [   3    0    0   46    1    3    0   17    0    0    0   12    2    0    2    0    3    1    0    8    1    0   26]\n",
      " [  14    0    0   24    2   15    0    7    0   70    2    6    2   66    1    0    4    2    0   22   32    0  352]\n",
      " [  29    0    0   12    8    1    0    6    0    1   22    4    2    6    0    0    9   12    1    7    7    0   35]\n",
      " [   3    0    0  153    2   14    0    9    0    2    2  102    1   26    2    0    7    7    2    8   11    0  140]\n",
      " [  10    0    0   46    1    3    0   25    0    0    1    8   34    8    1    0   28    0    0   61    0    0   55]\n",
      " [   6    0    0   11    1    1    0   17    0    1    0    4    3 1001    2    0    3   16    0    6    9    0  168]\n",
      " [   7    0    0   43    1    6    0   19    0    0    0   13    5    6   14    0   27    2    1   18    2    0   51]\n",
      " [   3    0    0   14    1    1    0    8    0    1    1   10    1   67    1    0    1    3    0    0    3    0   85]\n",
      " [  10    0    0   44    3    3    0   19    0    2    4   12    6   15   13    0   85    3    2   33    4    0   37]\n",
      " [   6    0    0   13    7    4    0    1    0    5    2   11    0   51    0    0    2  171    0    1   57    0   57]\n",
      " [   4    0    0   34   12    2    0    7    0    1    0   10    0   21    0    0    3   35    3    2   13    0   44]\n",
      " [  29    0    0   44    2    4    0   25    0    3    3    8   10    4    2    0   24    3    0  317    4    0   43]\n",
      " [  16    0    0    9   10    7    0    8    0   24    5    5    1   32    1    0    1   30    0   18  235    0  144]\n",
      " [  15    0    0    2    1    2    0    1    0    0    2    3    0   24    1    0    3    9    0    2   11    0   16]\n",
      " [  25    0    0  171    4   90    0   39    0   45    9   48    7  378   10    0   16   13    4   58   45    0  837]]\n"
     ]
    }
   ],
   "source": [
    "# Confusion matrix\n",
    "cm = confusion_matrix(labels, y_pred)\n",
    "print(np.array2string(cm, max_line_width = 120))"
   ]
  },
  {
   "cell_type": "code",
   "execution_count": 19,
   "metadata": {},
   "outputs": [
    {
     "name": "stdout",
     "output_type": "stream",
     "text": [
      "National General Practice Study of Epilepsy: recurrence after a first seizure \n",
      " In the National General Practice Study of Epilepsy 564 patients classified as having definite seizures have been followed up for 2-4 years.\n",
      " 67% (95% confidence interval 63-71%) had a recurrence within 12 months of the first seizure, and 78% (74-81%) had a recurrence within 36 months.\n",
      " Seizures associated with a neurological deficit presumed present at birth had a high rate of recurrence (100% by 12 months), whereas seizures that occurred within 3 months of an acute insult to the brain, such as head injury or stroke, or in the context of an acute precipitant such as alcohol, carried a much lower risk of recurrence (40% [29-51%] by 12 months).\n",
      " Other factors affecting the risk of recurrence were age-the highest risk being for patients under the age of 16 (83% [77-89%] by 36 months) or over the age of 59 (83% [76-90%] by 36 months-and type of first seizure-the risk of recurrence being much higher for patients with simple partial or complex partial seizures (94% [90-99%] by 36 months) than for those with generalised tonic clonic seizures (72% [67-77%] by 36 months).\n",
      "\n"
     ]
    }
   ],
   "source": [
    "predict_text=503\n",
    "print(texts[indices[predict_text]])"
   ]
  },
  {
   "cell_type": "code",
   "execution_count": 20,
   "metadata": {},
   "outputs": [
    {
     "name": "stdout",
     "output_type": "stream",
     "text": [
      "True class:  22\n",
      "Predicted class: 22\n",
      "Predictions per class:\n",
      "[ 0.01  0.    0.    0.03  0.01  0.06  0.    0.01  0.    0.19  0.    0.03\n",
      "  0.01  0.14  0.01  0.03  0.01  0.01  0.    0.    0.02  0.    0.44]\n"
     ]
    },
    {
     "data": {
      "image/png": "[encoded data removed]",
      "text/plain": [
       "<matplotlib.figure.Figure at 0x1e973a4d2b0>"
      ]
     },
     "metadata": {},
     "output_type": "display_data"
    }
   ],
   "source": [
    "print('True class: ', labels[predict_text])\n",
    "print('Predicted class:', y_pred[predict_text])\n",
    "print('Predictions per class:')\n",
    "print(np.array2string(predictions[predict_text], precision = 2))\n",
    "\n",
    "plt.stem(predictions[predict_text])\n",
    "plt.show()"
   ]
  },
  {
   "cell_type": "markdown",
   "metadata": {},
   "source": [
    "# 9. Conclusions   \n",
    "The case 3. was good introduction to NLP and recurrent neural networks.  I think the difficulty level was just right. The objectives were achieved such the neural network works. There could be little more time to do this assignment. With more time some unsolved problems could be fixed.   \n",
    "<br>\n",
    "The validation accuracy and loss were worse than test accuracy and loss. That is interesting and needs more time to investigate it more. With quick research it can not be found any information about phenomenon.   \n",
    "<br>\n",
    "It seems that 20 000 abstracts is not enough to build good model for medical text classifier. Training accuracy never rise over 0.5 with LSTM layers. Lightly over 0.25 test accuracy is not good for medical classifier. However 0.25 is much better than random guess.   \n",
    "<br>\n",
    "\n"
   ]
  }
 ],
 "metadata": {
  "kernelspec": {
   "display_name": "Python 3",
   "language": "python",
   "name": "python3"
  },
  "language_info": {
   "codemirror_mode": {
    "name": "ipython",
    "version": 3
   },
   "file_extension": ".py",
   "mimetype": "text/x-python",
   "name": "python",
   "nbconvert_exporter": "python",
   "pygments_lexer": "ipython3",
   "version": "3.6.3"
  }
 },
 "nbformat": 4,
 "nbformat_minor": 2
}
