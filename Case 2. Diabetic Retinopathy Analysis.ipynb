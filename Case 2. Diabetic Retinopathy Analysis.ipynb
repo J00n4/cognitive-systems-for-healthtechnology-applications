{
 "cells": [
  {
   "cell_type": "markdown",
   "metadata": {},
   "source": [
    "# Case 2. Diabetic Retinopathy Analysis\n",
    "Joona Klemetti   \n",
    "22.2.2018   \n",
    "Cognitive Systems for Health Technology Applications   \n",
    "Helsinki Metropolia University of Applied Science   "
   ]
  },
  {
   "cell_type": "markdown",
   "metadata": {},
   "source": [
    "# 1. Objectives   \n",
    "The aim of this case is learn to use convolutional neural networks to classify medical images. Purpose of the case is use keras.io convolutional neural networks to create a classifier for diabetic retinopathy images.\n",
    "\n",
    "After the concolutional neural network and the expert system is made it's intended to examine how number of nodes, layers and epochs affects to systems reliability. Also it's tested how batch size and train-validation-test distribution affects the results."
   ]
  },
  {
   "cell_type": "markdown",
   "metadata": {},
   "source": [
    "# 2. Required libraries   \n",
    "At first it is necessary to import all libraries. In this assignment is used numpy to scientific computing and creating multidimensional arrays, matplotlib to ploting figures, time to calculate time,  scikit-learn to calculate metrics, keras to build the convolutional neural network and pickle to save history of the model."
   ]
  },
  {
   "cell_type": "code",
   "execution_count": 1,
   "metadata": {},
   "outputs": [
    {
     "name": "stderr",
     "output_type": "stream",
     "text": [
      "Using TensorFlow backend.\n"
     ]
    }
   ],
   "source": [
    "import numpy as np\n",
    "import matplotlib.pyplot as plt \n",
    "import keras \n",
    "import time\n",
    "from keras import layers\n",
    "from keras import models\n",
    "import pickle\n",
    "\n",
    "%matplotlib inline"
   ]
  },
  {
   "cell_type": "markdown",
   "metadata": {},
   "source": [
    "# 3. Building network   \n",
    "The convolutional neural network is build by using keras sequential model. The architecture is inspired by The KaggleDiabetic Retinopathy Detection competition 2015 winnner team Min-Pooling. Team member Ben Graham describes their model in competition report. Unfortunately my laptop isn't quite as good as NVIDIA GPU used by Team Min-Pooling. That's is the biggest reason I couldn't build as massive network. For more information of Team Min-Poolings model it is recommended to explore original report https://kaggle2.blob.core.windows.net/forum-message-attachments/88655/2795/competitionreport.pdf   \n",
    "<br>\n",
    "It's choosed to use keras 2D convolution layers and keras MaxPooling2D leyers following each other. In the end there is used Flatten layer to flattens the input, Dropout layer for weight regularization to avoid overfitting and couple of Dense leyers."
   ]
  },
  {
   "cell_type": "code",
   "execution_count": 2,
   "metadata": {},
   "outputs": [
    {
     "name": "stdout",
     "output_type": "stream",
     "text": [
      "_________________________________________________________________\n",
      "Layer (type)                 Output Shape              Param #   \n",
      "=================================================================\n",
      "conv2d_1 (Conv2D)            (None, 148, 148, 32)      896       \n",
      "_________________________________________________________________\n",
      "max_pooling2d_1 (MaxPooling2 (None, 74, 74, 32)        0         \n",
      "_________________________________________________________________\n",
      "conv2d_2 (Conv2D)            (None, 72, 72, 64)        18496     \n",
      "_________________________________________________________________\n",
      "max_pooling2d_2 (MaxPooling2 (None, 36, 36, 64)        0         \n",
      "_________________________________________________________________\n",
      "conv2d_3 (Conv2D)            (None, 34, 34, 128)       73856     \n",
      "_________________________________________________________________\n",
      "max_pooling2d_3 (MaxPooling2 (None, 17, 17, 128)       0         \n",
      "_________________________________________________________________\n",
      "conv2d_4 (Conv2D)            (None, 15, 15, 256)       295168    \n",
      "_________________________________________________________________\n",
      "max_pooling2d_4 (MaxPooling2 (None, 7, 7, 256)         0         \n",
      "_________________________________________________________________\n",
      "flatten_1 (Flatten)          (None, 12544)             0         \n",
      "_________________________________________________________________\n",
      "dropout_1 (Dropout)          (None, 12544)             0         \n",
      "_________________________________________________________________\n",
      "dense_1 (Dense)              (None, 512)               6423040   \n",
      "_________________________________________________________________\n",
      "dropout_2 (Dropout)          (None, 512)               0         \n",
      "_________________________________________________________________\n",
      "dense_2 (Dense)              (None, 1)                 513       \n",
      "=================================================================\n",
      "Total params: 6,811,969\n",
      "Trainable params: 6,811,969\n",
      "Non-trainable params: 0\n",
      "_________________________________________________________________\n"
     ]
    }
   ],
   "source": [
    "model = models.Sequential()\n",
    "model.add(layers.Conv2D(32, (3, 3), activation='relu',\n",
    "                        input_shape=(150, 150, 3)))\n",
    "model.add(layers.MaxPooling2D((2, 2)))\n",
    "model.add(layers.Conv2D(64, (3, 3), activation='relu'))\n",
    "model.add(layers.MaxPooling2D((2, 2)))\n",
    "model.add(layers.Conv2D(128, (3, 3), activation='relu'))\n",
    "model.add(layers.MaxPooling2D((2, 2)))\n",
    "model.add(layers.Conv2D(256, (3, 3), activation='relu'))\n",
    "model.add(layers.MaxPooling2D((2, 2)))\n",
    "model.add(layers.Flatten())\n",
    "model.add(layers.Dropout(0.2))\n",
    "model.add(layers.Dense(512, activation='relu'))\n",
    "model.add(layers.Dropout(0.2))\n",
    "model.add(layers.Dense(1, activation='sigmoid'))\n",
    "\n",
    "model.summary()"
   ]
  },
  {
   "cell_type": "code",
   "execution_count": 3,
   "metadata": {
    "collapsed": true
   },
   "outputs": [],
   "source": [
    "from keras import optimizers\n",
    "\n",
    "model.compile(loss='binary_crossentropy',\n",
    "              optimizer=optimizers.RMSprop(lr=1e-4),\n",
    "              metrics=['acc'])"
   ]
  },
  {
   "cell_type": "markdown",
   "metadata": {},
   "source": [
    "# 4. Data prosessing   \n",
    "Dataset is prosessed by using keras library. First it's splitted to train, validation and test sets. After that pictures needs to be preprosessed. The Pictures must be fed into the network in suitable-sized batches of 3D NumPy tensors. This is done by using ImageDataGenerator from keras.preprocessing.image.   \n",
    "<br>\n",
    "Training set is also augmented. It's choosed to accept horizontal flip, zoom range maxium in 20% and filling mode is choosed 'nearest'. That means if there are generated empty pixels in prosessing generator chooses pixel value from nearest pixel that got value. All sets are also rescaled by 1./255.   \n",
    "<br>\n",
    "Batch size is determined to be small enough to my computer but still big enough for efficient."
   ]
  },
  {
   "cell_type": "code",
   "execution_count": 4,
   "metadata": {},
   "outputs": [
    {
     "name": "stdout",
     "output_type": "stream",
     "text": [
      "Found 1237 images belonging to 2 classes.\n",
      "Found 413 images belonging to 2 classes.\n",
      "Found 413 images belonging to 2 classes.\n"
     ]
    }
   ],
   "source": [
    "from keras.preprocessing.image import ImageDataGenerator\n",
    "\n",
    "train_dir = 'dataset2\\\\train'\n",
    "validation_dir = 'dataset2\\\\validation'\n",
    "test_dir = 'dataset2\\\\test'\n",
    "# All images will be rescaled by 1./255\n",
    "train_datagen = ImageDataGenerator(rescale=1./255,\n",
    "                                   horizontal_flip=True,\n",
    "                                   zoom_range=0.2,\n",
    "                                   fill_mode='nearest')\n",
    "\n",
    "validation_datagen = ImageDataGenerator(rescale = 1./255)\n",
    "\n",
    "test_datagen = ImageDataGenerator(rescale=1./255)\n",
    "\n",
    "\n",
    "train_generator = train_datagen.flow_from_directory(\n",
    "        # This is the target directory\n",
    "        train_dir,\n",
    "        # All images will be resized to 150x150\n",
    "        target_size=(150, 150),\n",
    "        batch_size=50,\n",
    "        # Since we use binary_crossentropy loss, we need binary labels\n",
    "        class_mode='binary')\n",
    "\n",
    "validation_generator = validation_datagen.flow_from_directory(\n",
    "        validation_dir,\n",
    "        target_size=(150, 150),\n",
    "        batch_size=50,\n",
    "        class_mode='binary')\n",
    "\n",
    "test_generator = test_datagen.flow_from_directory(\n",
    "        test_dir,\n",
    "        target_size = (150, 150),\n",
    "        batch_size = 50,\n",
    "        class_mode = 'binary')"
   ]
  },
  {
   "cell_type": "markdown",
   "metadata": {},
   "source": [
    "# 5. Training and Validation\n",
    "steps_per_epoch defines total number of steps before declaring one epoch finished and starting the next epoch. Number 25 is determined simply divide total number of pictures in training set by number of batch size. In this case 1237 / 50 = 24.74  ~25. Validation_steps is determined by the same principle. Time function is used to calculate elapsed time. Finally the model and history is saved."
   ]
  },
  {
   "cell_type": "code",
   "execution_count": 7,
   "metadata": {},
   "outputs": [
    {
     "name": "stdout",
     "output_type": "stream",
     "text": [
      "Epoch 1/50\n",
      "25/25 [==============================] - 471s 19s/step - loss: 0.5753 - acc: 0.6974 - val_loss: 0.5397 - val_acc: 0.7106\n",
      "Epoch 2/50\n",
      "25/25 [==============================] - 362s 14s/step - loss: 0.5354 - acc: 0.7185 - val_loss: 0.5183 - val_acc: 0.7257\n",
      "Epoch 3/50\n",
      "25/25 [==============================] - 349s 14s/step - loss: 0.5327 - acc: 0.7257 - val_loss: 0.5246 - val_acc: 0.7538\n",
      "Epoch 4/50\n",
      "25/25 [==============================] - 356s 14s/step - loss: 0.5294 - acc: 0.7367 - val_loss: 0.5040 - val_acc: 0.7624\n",
      "Epoch 5/50\n",
      "25/25 [==============================] - 351s 14s/step - loss: 0.5237 - acc: 0.7519 - val_loss: 0.5020 - val_acc: 0.7516\n",
      "Epoch 6/50\n",
      "25/25 [==============================] - 351s 14s/step - loss: 0.5205 - acc: 0.7428 - val_loss: 0.4853 - val_acc: 0.7581\n",
      "Epoch 7/50\n",
      "25/25 [==============================] - 347s 14s/step - loss: 0.5055 - acc: 0.7553 - val_loss: 0.4870 - val_acc: 0.7516\n",
      "Epoch 8/50\n",
      "25/25 [==============================] - 351s 14s/step - loss: 0.5004 - acc: 0.7593 - val_loss: 0.5013 - val_acc: 0.7495\n",
      "Epoch 9/50\n",
      "25/25 [==============================] - 347s 14s/step - loss: 0.5029 - acc: 0.7580 - val_loss: 0.4863 - val_acc: 0.7495\n",
      "Epoch 10/50\n",
      "25/25 [==============================] - 349s 14s/step - loss: 0.5000 - acc: 0.7652 - val_loss: 0.4952 - val_acc: 0.7624\n",
      "Epoch 11/50\n",
      "25/25 [==============================] - 355s 14s/step - loss: 0.4987 - acc: 0.7569 - val_loss: 0.5035 - val_acc: 0.7430\n",
      "Epoch 12/50\n",
      "25/25 [==============================] - 352s 14s/step - loss: 0.4964 - acc: 0.7556 - val_loss: 0.4884 - val_acc: 0.7624\n",
      "Epoch 13/50\n",
      "25/25 [==============================] - 356s 14s/step - loss: 0.5049 - acc: 0.7559 - val_loss: 0.4830 - val_acc: 0.7603\n",
      "Epoch 14/50\n",
      "25/25 [==============================] - 348s 14s/step - loss: 0.4904 - acc: 0.7649 - val_loss: 0.5184 - val_acc: 0.7300\n",
      "Epoch 15/50\n",
      "25/25 [==============================] - 353s 14s/step - loss: 0.4945 - acc: 0.7639 - val_loss: 0.4959 - val_acc: 0.7538\n",
      "Epoch 16/50\n",
      "25/25 [==============================] - 348s 14s/step - loss: 0.4919 - acc: 0.7625 - val_loss: 0.4929 - val_acc: 0.7538\n",
      "Epoch 17/50\n",
      "25/25 [==============================] - 360s 14s/step - loss: 0.4917 - acc: 0.7559 - val_loss: 0.4955 - val_acc: 0.7559\n",
      "Epoch 18/50\n",
      "25/25 [==============================] - 350s 14s/step - loss: 0.4922 - acc: 0.7631 - val_loss: 0.4977 - val_acc: 0.7343\n",
      "Epoch 19/50\n",
      "25/25 [==============================] - 346s 14s/step - loss: 0.5043 - acc: 0.7612 - val_loss: 0.4885 - val_acc: 0.7430\n",
      "Epoch 20/50\n",
      "25/25 [==============================] - 353s 14s/step - loss: 0.4772 - acc: 0.7740 - val_loss: 0.4960 - val_acc: 0.7473\n",
      "Epoch 21/50\n",
      "25/25 [==============================] - 348s 14s/step - loss: 0.4833 - acc: 0.7697 - val_loss: 0.4864 - val_acc: 0.7559\n",
      "Epoch 22/50\n",
      "25/25 [==============================] - 348s 14s/step - loss: 0.4768 - acc: 0.7695 - val_loss: 0.4875 - val_acc: 0.7473\n",
      "Epoch 23/50\n",
      "25/25 [==============================] - 348s 14s/step - loss: 0.4873 - acc: 0.7740 - val_loss: 0.5005 - val_acc: 0.7473\n",
      "Epoch 24/50\n",
      "25/25 [==============================] - 350s 14s/step - loss: 0.4723 - acc: 0.7762 - val_loss: 0.4826 - val_acc: 0.7430\n",
      "Epoch 25/50\n",
      "25/25 [==============================] - 374s 15s/step - loss: 0.4733 - acc: 0.7812 - val_loss: 0.4837 - val_acc: 0.7495\n",
      "Epoch 26/50\n",
      "25/25 [==============================] - 351s 14s/step - loss: 0.4788 - acc: 0.7687 - val_loss: 0.4806 - val_acc: 0.7516\n",
      "Epoch 27/50\n",
      "25/25 [==============================] - 346s 14s/step - loss: 0.4747 - acc: 0.7769 - val_loss: 0.4876 - val_acc: 0.7495\n",
      "Epoch 28/50\n",
      "25/25 [==============================] - 349s 14s/step - loss: 0.4696 - acc: 0.7737 - val_loss: 0.4844 - val_acc: 0.7495\n",
      "Epoch 29/50\n",
      "25/25 [==============================] - 349s 14s/step - loss: 0.4777 - acc: 0.7759 - val_loss: 0.5191 - val_acc: 0.7343\n",
      "Epoch 30/50\n",
      "25/25 [==============================] - 347s 14s/step - loss: 0.4707 - acc: 0.7793 - val_loss: 0.5218 - val_acc: 0.7451\n",
      "Epoch 31/50\n",
      "25/25 [==============================] - 347s 14s/step - loss: 0.4677 - acc: 0.7807 - val_loss: 0.5059 - val_acc: 0.7235\n",
      "Epoch 32/50\n",
      "25/25 [==============================] - 350s 14s/step - loss: 0.4685 - acc: 0.7780 - val_loss: 0.5059 - val_acc: 0.7387\n",
      "Epoch 33/50\n",
      "25/25 [==============================] - 371s 15s/step - loss: 0.4681 - acc: 0.7791 - val_loss: 0.4840 - val_acc: 0.7451\n",
      "Epoch 34/50\n",
      "25/25 [==============================] - 348s 14s/step - loss: 0.4728 - acc: 0.7788 - val_loss: 0.4777 - val_acc: 0.7451\n",
      "Epoch 35/50\n",
      "25/25 [==============================] - 345s 14s/step - loss: 0.4628 - acc: 0.7828 - val_loss: 0.5207 - val_acc: 0.7214\n",
      "Epoch 36/50\n",
      "25/25 [==============================] - 348s 14s/step - loss: 0.4562 - acc: 0.7847 - val_loss: 0.5140 - val_acc: 0.7365\n",
      "Epoch 37/50\n",
      "25/25 [==============================] - 346s 14s/step - loss: 0.4595 - acc: 0.7812 - val_loss: 0.5022 - val_acc: 0.7387\n",
      "Epoch 38/50\n",
      "25/25 [==============================] - 350s 14s/step - loss: 0.4571 - acc: 0.7948 - val_loss: 0.4873 - val_acc: 0.7473\n",
      "Epoch 39/50\n",
      "25/25 [==============================] - 343s 14s/step - loss: 0.4670 - acc: 0.7815 - val_loss: 0.4646 - val_acc: 0.7646\n",
      "Epoch 40/50\n",
      "25/25 [==============================] - 346s 14s/step - loss: 0.4497 - acc: 0.7999 - val_loss: 0.4993 - val_acc: 0.7495\n",
      "Epoch 41/50\n",
      "25/25 [==============================] - 349s 14s/step - loss: 0.4536 - acc: 0.7892 - val_loss: 0.5369 - val_acc: 0.7408\n",
      "Epoch 42/50\n",
      "25/25 [==============================] - 350s 14s/step - loss: 0.4515 - acc: 0.7868 - val_loss: 0.4983 - val_acc: 0.7495\n",
      "Epoch 43/50\n",
      "25/25 [==============================] - 346s 14s/step - loss: 0.4522 - acc: 0.7911 - val_loss: 0.4906 - val_acc: 0.7495\n",
      "Epoch 44/50\n",
      "25/25 [==============================] - 346s 14s/step - loss: 0.4541 - acc: 0.7850 - val_loss: 0.4938 - val_acc: 0.7279\n",
      "Epoch 45/50\n",
      "25/25 [==============================] - 344s 14s/step - loss: 0.4573 - acc: 0.7898 - val_loss: 0.4929 - val_acc: 0.7646\n",
      "Epoch 46/50\n",
      "25/25 [==============================] - 349s 14s/step - loss: 0.4481 - acc: 0.7815 - val_loss: 0.5249 - val_acc: 0.7343\n",
      "Epoch 47/50\n",
      "25/25 [==============================] - 345s 14s/step - loss: 0.4504 - acc: 0.7919 - val_loss: 0.5138 - val_acc: 0.7365\n",
      "Epoch 48/50\n",
      "25/25 [==============================] - 344s 14s/step - loss: 0.4446 - acc: 0.8010 - val_loss: 0.5404 - val_acc: 0.7430\n",
      "Epoch 49/50\n",
      "25/25 [==============================] - 348s 14s/step - loss: 0.4542 - acc: 0.7887 - val_loss: 0.4935 - val_acc: 0.7408\n",
      "Epoch 50/50\n",
      "25/25 [==============================] - 343s 14s/step - loss: 0.4507 - acc: 0.7810 - val_loss: 0.5234 - val_acc: 0.7235\n"
     ]
    }
   ],
   "source": [
    "t1 = time.time()\n",
    "\n",
    "history = model.fit_generator(\n",
    "      train_generator,\n",
    "      steps_per_epoch=25,\n",
    "      verbose = 1,\n",
    "      epochs=50,\n",
    "      validation_data=validation_generator,\n",
    "      validation_steps=10)\n",
    "\n",
    "t2 = time.time()\n",
    "\n",
    "# Saves the model and history\n",
    "model.save('case_2_run_2.h5')\n",
    "pickle.dump(history.history, open('case_2_history_1.p', 'wb'))"
   ]
  },
  {
   "cell_type": "code",
   "execution_count": 8,
   "metadata": {},
   "outputs": [
    {
     "name": "stdout",
     "output_type": "stream",
     "text": [
      "Elapsed time 4.89 hours.\n",
      "Time per epoch 5.87 minutes.\n"
     ]
    }
   ],
   "source": [
    "print('Elapsed time {:.2f} hours.'.format((t2-t1)/3600))\n",
    "print('Time per epoch {:.2f} minutes.'.format((t2-t1)/50/60))"
   ]
  },
  {
   "cell_type": "markdown",
   "metadata": {},
   "source": [
    "# Testing the model\n",
    "Model is tested with testing set. Evaluate_generator() computes testing sets loss function and accuracity."
   ]
  },
  {
   "cell_type": "code",
   "execution_count": 10,
   "metadata": {},
   "outputs": [
    {
     "name": "stdout",
     "output_type": "stream",
     "text": [
      "Found 413 images belonging to 2 classes.\n"
     ]
    },
    {
     "data": {
      "text/plain": [
       "[0.59182779207116076, 0.72380953743344256]"
      ]
     },
     "execution_count": 10,
     "metadata": {},
     "output_type": "execute_result"
    }
   ],
   "source": [
    "test_generator = test_datagen.flow_from_directory(\n",
    "        test_dir,\n",
    "        target_size=(150, 150),\n",
    "        batch_size=50,\n",
    "        class_mode='binary')\n",
    "\n",
    "r = model.evaluate_generator(test_generator, steps = 21)\n",
    "\n",
    "# Loss and accuracy\n",
    "r"
   ]
  },
  {
   "cell_type": "markdown",
   "metadata": {},
   "source": [
    "# 7. Results and Discussion\n",
    "In the testing of convolutional neural network it is noticed light overfitting. It could be seen from lower testing accuracy and higher loss. Accuracy stays under 0.8 all the time. The final accuracy in testing was 0.7238. Loss functions diffrence between training and testing was bigger than differnece in accuracy. The final loss function was 0.5918 in testing when in the end of traing it was only 0.4507. Loss function decreased from first epoch to the 25th epoch. After 25th epoch loss function gets wierd variation. Behaviour of the loss function requires further investigation.   "
   ]
  },
  {
   "cell_type": "code",
   "execution_count": 9,
   "metadata": {},
   "outputs": [
    {
     "data": {
      "image/png": "[encoded data removed]",
      "text/plain": [
       "<matplotlib.figure.Figure at 0x211a22d5470>"
      ]
     },
     "metadata": {},
     "output_type": "display_data"
    },
    {
     "data": {
      "image/png": "[encoded data removed]",
      "text/plain": [
       "<matplotlib.figure.Figure at 0x211a54e8748>"
      ]
     },
     "metadata": {},
     "output_type": "display_data"
    }
   ],
   "source": [
    "acc = history.history['acc']\n",
    "val_acc = history.history['val_acc']\n",
    "loss = history.history['loss']\n",
    "val_loss = history.history['val_loss']\n",
    "\n",
    "epochs = range(len(acc))\n",
    "\n",
    "plt.plot(epochs, acc, 'bo', label='Training acc')\n",
    "plt.plot(epochs, val_acc, 'b', label='Validation acc')\n",
    "plt.title('Training and validation accuracy')\n",
    "plt.ylim([0, 1])\n",
    "plt.xlabel('Epochs')\n",
    "plt.grid()\n",
    "plt.legend()\n",
    "\n",
    "plt.figure()\n",
    "\n",
    "plt.plot(epochs, loss, 'bo', label='Training loss')\n",
    "plt.plot(epochs, val_loss, 'b', label='Validation loss')\n",
    "plt.title('Training and validation loss')\n",
    "plt.ylim([0, 1])\n",
    "plt.xlabel('Epochs')\n",
    "plt.grid()\n",
    "plt.legend()  \n",
    "\n",
    "\n",
    "plt.show()"
   ]
  },
  {
   "cell_type": "markdown",
   "metadata": {
    "collapsed": true
   },
   "source": [
    "# 8. Conclusions\n",
    "The case 2. was very good introduction to the convolutional neural networks. I think the difficulty level was just right at this point. The objectives were achieved such the convolutional neural network works.   \n",
    "<br>\n",
    "There was a little variation of loss function after 25th epoch. After investigation overfitting was the most common answer. Actually it was only suggestion that I could find in this time. The attempts were made to reduce overfitting with regularization layers. However all the overfitting never vanish. I think this was best result to get when used dropout layers. Two Dropout layers works better than only one. It seems to be pointles to increase dropout 20% to 30% or 50%.   \n",
    "<br>\n",
    "Image prosessing didn't seem to help get any better results. Dataset consist only lightly over 1000 pictures. That seems too few to train convolutional neural network. With larger dataset it's possible to get much better results.   \n",
    "<br>\n",
    "72% accuracy isn't that good for binary classification. That means the model is right under three times out of four which isn't enough for medical classifier. Testing accuracy was at best 80%. If overfitting is gotten under of control model could be pretty good. "
   ]
  }
 ],
 "metadata": {
  "kernelspec": {
   "display_name": "Python 3",
   "language": "python",
   "name": "python3"
  },
  "language_info": {
   "codemirror_mode": {
    "name": "ipython",
    "version": 3
   },
   "file_extension": ".py",
   "mimetype": "text/x-python",
   "name": "python",
   "nbconvert_exporter": "python",
   "pygments_lexer": "ipython3",
   "version": "3.6.3"
  }
 },
 "nbformat": 4,
 "nbformat_minor": 2
}
