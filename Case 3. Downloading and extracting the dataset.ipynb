{
 "cells": [
  {
   "cell_type": "markdown",
   "metadata": {},
   "source": [
    "# Case 3. Downloading and extracting the dataset\n",
    "Joona Klemetti   \n",
    "22.2.2018   \n",
    "Cognitive Systems for Health Technology Applications   \n",
    "Helsinki Metropolia University of Applied Science  "
   ]
  },
  {
   "cell_type": "code",
   "execution_count": 3,
   "metadata": {},
   "outputs": [
    {
     "data": {
      "text/plain": [
       "('ohsumed-first-20000-docs.tar.gz', <http.client.HTTPMessage at 0x22a23040a20>)"
      ]
     },
     "execution_count": 3,
     "metadata": {},
     "output_type": "execute_result"
    }
   ],
   "source": [
    "# Download a local copy of the tar-file\n",
    "from urllib.request import urlretrieve\n",
    "url = r\"http://disi.unitn.it/moschitti/corpora/ohsumed-first-20000-docs.tar.gz\"\n",
    "dst = 'ohsumed-first-20000-docs.tar.gz'\n",
    "urlretrieve(url, dst)"
   ]
  },
  {
   "cell_type": "code",
   "execution_count": 4,
   "metadata": {
    "collapsed": true
   },
   "outputs": [],
   "source": [
    "# Extract the tarfile. Creates a folder: ohsumed-first-20000-docs\n",
    "import tarfile\n",
    "tar = tarfile.open(\"ohsumed-first-20000-docs.tar.gz\")\n",
    "tar.extractall()\n",
    "tar.close()"
   ]
  }
 ],
 "metadata": {
  "kernelspec": {
   "display_name": "Python 3",
   "language": "python",
   "name": "python3"
  },
  "language_info": {
   "codemirror_mode": {
    "name": "ipython",
    "version": 3
   },
   "file_extension": ".py",
   "mimetype": "text/x-python",
   "name": "python",
   "nbconvert_exporter": "python",
   "pygments_lexer": "ipython3",
   "version": "3.6.3"
  }
 },
 "nbformat": 4,
 "nbformat_minor": 2
}
